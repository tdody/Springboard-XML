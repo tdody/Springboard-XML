{
 "cells": [
  {
   "cell_type": "markdown",
   "metadata": {},
   "source": [
    "# XML example and exercise\n",
    "****\n",
    "+ study examples of accessing nodes in XML tree structure  \n",
    "+ work on exercise to be completed and submitted\n",
    "****\n",
    "+ reference: https://docs.python.org/2.7/library/xml.etree.elementtree.html\n",
    "+ data source: http://www.dbis.informatik.uni-goettingen.de/Mondial\n",
    "****"
   ]
  },
  {
   "cell_type": "code",
   "execution_count": 1,
   "metadata": {
    "collapsed": true
   },
   "outputs": [],
   "source": [
    "from xml.etree import ElementTree as ET"
   ]
  },
  {
   "cell_type": "markdown",
   "metadata": {},
   "source": [
    "## XML example\n",
    "\n",
    "+ for details about tree traversal and iterators, see https://docs.python.org/2.7/library/xml.etree.elementtree.html"
   ]
  },
  {
   "cell_type": "code",
   "execution_count": 2,
   "metadata": {
    "collapsed": true
   },
   "outputs": [],
   "source": [
    "document_tree = ET.parse( './data/mondial_database_less.xml' )"
   ]
  },
  {
   "cell_type": "code",
   "execution_count": 3,
   "metadata": {},
   "outputs": [
    {
     "name": "stdout",
     "output_type": "stream",
     "text": [
      "Albania\n",
      "Greece\n",
      "Macedonia\n",
      "Serbia\n",
      "Montenegro\n",
      "Kosovo\n",
      "Andorra\n"
     ]
    }
   ],
   "source": [
    "# print names of all countries\n",
    "for child in document_tree.getroot():\n",
    "    print(child.find('name').text)"
   ]
  },
  {
   "cell_type": "code",
   "execution_count": 4,
   "metadata": {},
   "outputs": [
    {
     "name": "stdout",
     "output_type": "stream",
     "text": [
      "* Albania:\n",
      "Tirana, Shkodër, Durrës, Vlorë, Elbasan, Korçë\n",
      "* Greece:\n",
      "Komotini, Kavala, Athina, Peiraias, Peristeri, Acharnes, Patra, Kozani, Kerkyra, Ioannina, Thessaloniki, Iraklio, Chania, Ermoupoli, Rhodes, Tripoli, Lamia, Chalkida, Larissa, Volos, Mytilini, Karyes\n",
      "* Macedonia:\n",
      "Skopje, Kumanovo\n",
      "* Serbia:\n",
      "Beograd, Novi Sad, Niš\n",
      "* Montenegro:\n",
      "Podgorica\n",
      "* Kosovo:\n",
      "Prishtine\n",
      "* Andorra:\n",
      "Andorra la Vella\n"
     ]
    }
   ],
   "source": [
    "# print names of all countries and their cities\n",
    "for element in document_tree.iterfind('country'):\n",
    "    print('* ' + element.find('name').text + ':')\n",
    "    capitals_string = ''\n",
    "    for subelement in element.getiterator('city'):\n",
    "        capitals_string += subelement.find('name').text + ', '\n",
    "    print(capitals_string[:-2])"
   ]
  },
  {
   "cell_type": "markdown",
   "metadata": {},
   "source": [
    "****\n",
    "## XML exercise\n",
    "\n",
    "Using data in 'data/mondial_database.xml', the examples above, and refering to https://docs.python.org/2.7/library/xml.etree.elementtree.html, find\n",
    "\n",
    "1. 10 countries with the lowest infant mortality rates\n",
    "2. 10 cities with the largest population\n",
    "3. 10 ethnic groups with the largest overall populations (sum of best/latest estimates over all countries)\n",
    "4. name and country of a) longest river, b) largest lake and c) airport at highest elevation"
   ]
  },
  {
   "cell_type": "code",
   "execution_count": 5,
   "metadata": {
    "collapsed": true
   },
   "outputs": [],
   "source": [
    "# Load xml file\n",
    "database_xml = ET.parse( './data/mondial_database.xml' )"
   ]
  },
  {
   "cell_type": "code",
   "execution_count": 6,
   "metadata": {
    "collapsed": true
   },
   "outputs": [],
   "source": [
    "import pandas as pd\n",
    "import numpy as np"
   ]
  },
  {
   "cell_type": "markdown",
   "metadata": {},
   "source": [
    "****\n",
    "## Question 1: 10 countries with the lowest infant mortality rates\n",
    "   \n",
    "Process:  \n",
    "a. Examine the data to find under which feature name is the infant mortality stored.   \n",
    "b. Iterate through all the countries and retrieve the data.   \n",
    "c. Converte the retrieved data into a Pandas DataFrame for manipulation.\n",
    "d. Sort the dataframe in ascending order.\n",
    "\n",
    "After review of the XML file, it appears that the infant mortality rate is stored using the element name infant_mortality."
   ]
  },
  {
   "cell_type": "code",
   "execution_count": 7,
   "metadata": {},
   "outputs": [
    {
     "name": "stdout",
     "output_type": "stream",
     "text": [
      "<class 'pandas.core.frame.DataFrame'>\n",
      "Index: 244 entries, Afghanistan to Zimbabwe\n",
      "Data columns (total 1 columns):\n",
      "infant_mortality    228 non-null object\n",
      "dtypes: object(1)\n",
      "memory usage: 3.8+ KB\n"
     ]
    }
   ],
   "source": [
    "# Storage variables.\n",
    "infantMortRates_dict = {}\n",
    "\n",
    "# Retrieve data by iteration.\n",
    "for country in database_xml.iterfind('country'):\n",
    "    infantMortRates_dict[country.findtext('name')] = country.findtext('infant_mortality')\n",
    "\n",
    "# Convert dictionary into Pandas DataFrame.\n",
    "infantMortRates_df = pd.DataFrame({'infant_mortality':infantMortRates_dict})\n",
    "\n",
    "# Examine the data\n",
    "infantMortRates_df.info()"
   ]
  },
  {
   "cell_type": "code",
   "execution_count": 8,
   "metadata": {},
   "outputs": [
    {
     "name": "stdout",
     "output_type": "stream",
     "text": [
      "The 10 countries with the lowest infant mortality rate (excluding missing data) are:\n",
      "\n"
     ]
    },
    {
     "data": {
      "text/html": [
       "<div>\n",
       "<style>\n",
       "    .dataframe thead tr:only-child th {\n",
       "        text-align: right;\n",
       "    }\n",
       "\n",
       "    .dataframe thead th {\n",
       "        text-align: left;\n",
       "    }\n",
       "\n",
       "    .dataframe tbody tr th {\n",
       "        vertical-align: top;\n",
       "    }\n",
       "</style>\n",
       "<table border=\"1\" class=\"dataframe\">\n",
       "  <thead>\n",
       "    <tr style=\"text-align: right;\">\n",
       "      <th></th>\n",
       "      <th>infant_mortality</th>\n",
       "    </tr>\n",
       "  </thead>\n",
       "  <tbody>\n",
       "    <tr>\n",
       "      <th>Monaco</th>\n",
       "      <td>1.81</td>\n",
       "    </tr>\n",
       "    <tr>\n",
       "      <th>Romania</th>\n",
       "      <td>10.16</td>\n",
       "    </tr>\n",
       "    <tr>\n",
       "      <th>Fiji</th>\n",
       "      <td>10.2</td>\n",
       "    </tr>\n",
       "    <tr>\n",
       "      <th>Brunei</th>\n",
       "      <td>10.48</td>\n",
       "    </tr>\n",
       "    <tr>\n",
       "      <th>Grenada</th>\n",
       "      <td>10.5</td>\n",
       "    </tr>\n",
       "    <tr>\n",
       "      <th>Mauritius</th>\n",
       "      <td>10.59</td>\n",
       "    </tr>\n",
       "    <tr>\n",
       "      <th>Panama</th>\n",
       "      <td>10.7</td>\n",
       "    </tr>\n",
       "    <tr>\n",
       "      <th>Seychelles</th>\n",
       "      <td>10.77</td>\n",
       "    </tr>\n",
       "    <tr>\n",
       "      <th>United Arab Emirates</th>\n",
       "      <td>10.92</td>\n",
       "    </tr>\n",
       "    <tr>\n",
       "      <th>Barbados</th>\n",
       "      <td>10.93</td>\n",
       "    </tr>\n",
       "  </tbody>\n",
       "</table>\n",
       "</div>"
      ],
      "text/plain": [
       "                     infant_mortality\n",
       "Monaco                           1.81\n",
       "Romania                         10.16\n",
       "Fiji                             10.2\n",
       "Brunei                          10.48\n",
       "Grenada                          10.5\n",
       "Mauritius                       10.59\n",
       "Panama                           10.7\n",
       "Seychelles                      10.77\n",
       "United Arab Emirates            10.92\n",
       "Barbados                        10.93"
      ]
     },
     "execution_count": 8,
     "metadata": {},
     "output_type": "execute_result"
    }
   ],
   "source": [
    "# The dataframe contains null values, they are dropped before the data is sorted.\n",
    "infantMortRates_df = infantMortRates_df.dropna()\n",
    "print(\"The 10 countries with the lowest infant mortality rate (excluding missing data) are:\\n\")\n",
    "infantMortRates_df.sort_values(by='infant_mortality').head(10)"
   ]
  },
  {
   "cell_type": "markdown",
   "metadata": {},
   "source": [
    "****\n",
    "## Question 2: 10 cities with the largest population\n",
    "   \n",
    "Process:  \n",
    " a. Examine the data to find under which feature name is the population.   \n",
    " b. Iterate through all the countries and retrieve the data.   \n",
    " c. Converte the retrieved data into a Pandas DataFrame for manipulation.\n",
    " d. Sort the dataframe in descendign order.\n",
    "\n",
    "After review of the XML file, it appears that the city population is stored under several layers of elements. First the country element contains a city element, which contains a list of population elements defined by year.\n",
    "When retrieving the desired data, only the most recent year is retrieved as it represents the best estimation of the current population value. In order to create a systematic process, the population for each year is retrieved and only the one corresponding to the most recent value is stored."
   ]
  },
  {
   "cell_type": "code",
   "execution_count": 9,
   "metadata": {},
   "outputs": [
    {
     "name": "stdout",
     "output_type": "stream",
     "text": [
      "<class 'pandas.core.frame.DataFrame'>\n",
      "Index: 393 entries, Abomey-Calavi to al Hudaydah\n",
      "Data columns (total 1 columns):\n",
      "city_pop    393 non-null int64\n",
      "dtypes: int64(1)\n",
      "memory usage: 6.1+ KB\n"
     ]
    }
   ],
   "source": [
    "# Storage variables.\n",
    "cityPopulation_dict = {}\n",
    "\n",
    "# Retrieve data by iteration.\n",
    "for country in database_xml.iterfind('country'):\n",
    "    for city in country.iterfind('city'):\n",
    "        try:\n",
    "            popHistory = {int(population.get('year')) : population.text \n",
    "                          for population in city.iterfind('population')}\n",
    "            cityPopulation_dict[city.find('name').text] = int(popHistory[max(popHistory.keys())])\n",
    "        except:\n",
    "            continue\n",
    "            \n",
    "# Convert dictionary into Pandas DataFrame.\n",
    "cityPopulation_df = pd.DataFrame({'city_pop':cityPopulation_dict})\n",
    "\n",
    "# Examine the data.\n",
    "cityPopulation_df.info()"
   ]
  },
  {
   "cell_type": "code",
   "execution_count": 10,
   "metadata": {},
   "outputs": [
    {
     "name": "stdout",
     "output_type": "stream",
     "text": [
      "The 10 cities with the largest population are:\n",
      "\n"
     ]
    },
    {
     "data": {
      "text/html": [
       "<div>\n",
       "<style>\n",
       "    .dataframe thead tr:only-child th {\n",
       "        text-align: right;\n",
       "    }\n",
       "\n",
       "    .dataframe thead th {\n",
       "        text-align: left;\n",
       "    }\n",
       "\n",
       "    .dataframe tbody tr th {\n",
       "        vertical-align: top;\n",
       "    }\n",
       "</style>\n",
       "<table border=\"1\" class=\"dataframe\">\n",
       "  <thead>\n",
       "    <tr style=\"text-align: right;\">\n",
       "      <th></th>\n",
       "      <th>city_pop</th>\n",
       "    </tr>\n",
       "  </thead>\n",
       "  <tbody>\n",
       "    <tr>\n",
       "      <th>Seoul</th>\n",
       "      <td>9708483</td>\n",
       "    </tr>\n",
       "    <tr>\n",
       "      <th>Al Qahirah</th>\n",
       "      <td>8471859</td>\n",
       "    </tr>\n",
       "    <tr>\n",
       "      <th>Bangkok</th>\n",
       "      <td>7506700</td>\n",
       "    </tr>\n",
       "    <tr>\n",
       "      <th>Hong Kong</th>\n",
       "      <td>7055071</td>\n",
       "    </tr>\n",
       "    <tr>\n",
       "      <th>Ho Chi Minh</th>\n",
       "      <td>5968384</td>\n",
       "    </tr>\n",
       "    <tr>\n",
       "      <th>Singapore</th>\n",
       "      <td>5076700</td>\n",
       "    </tr>\n",
       "    <tr>\n",
       "      <th>Al Iskandariyah</th>\n",
       "      <td>4123869</td>\n",
       "    </tr>\n",
       "    <tr>\n",
       "      <th>New Taipei</th>\n",
       "      <td>3939305</td>\n",
       "    </tr>\n",
       "    <tr>\n",
       "      <th>Busan</th>\n",
       "      <td>3403135</td>\n",
       "    </tr>\n",
       "    <tr>\n",
       "      <th>Pyongyang</th>\n",
       "      <td>3255288</td>\n",
       "    </tr>\n",
       "  </tbody>\n",
       "</table>\n",
       "</div>"
      ],
      "text/plain": [
       "                 city_pop\n",
       "Seoul             9708483\n",
       "Al Qahirah        8471859\n",
       "Bangkok           7506700\n",
       "Hong Kong         7055071\n",
       "Ho Chi Minh       5968384\n",
       "Singapore         5076700\n",
       "Al Iskandariyah   4123869\n",
       "New Taipei        3939305\n",
       "Busan             3403135\n",
       "Pyongyang         3255288"
      ]
     },
     "execution_count": 10,
     "metadata": {},
     "output_type": "execute_result"
    }
   ],
   "source": [
    "# The dataframe does not contain null values.\n",
    "print(\"The 10 cities with the largest population are:\\n\")\n",
    "cityPopulation_df.sort_values(by='city_pop',ascending=False).head(10)"
   ]
  },
  {
   "cell_type": "markdown",
   "metadata": {},
   "source": [
    "****\n",
    "## Question 3: 10 ethnic groups with the largest overall populations (sum of best/latest estimates over all countries)\n",
    "   \n",
    "Process:   \n",
    " a. Examine the data to find under which feature name contains the ethnic group population.     \n",
    " b. Iterate through all the countries and retrieve the data.  \n",
    " c. Iterate through each ethnic group per country to retrieve its population percentage.  \n",
    " d. Converte the retrieved data into a Pandas DataFrame for manipulation.  \n",
    " e. Group the results per ethnic group name.  \n",
    " f. Sort the dataframe in descendign order.  \n",
    "\n",
    "After review of the XML file, it appears that the desired data (population of largest ethnic) group is not directly available. In order to build it, first the latest population needs to be obtained, then the percentage of the largest ethnic group needs to be extracted. Finally, the desired feature is obtained by multipling both extracted values."
   ]
  },
  {
   "cell_type": "code",
   "execution_count": 11,
   "metadata": {
    "collapsed": true
   },
   "outputs": [],
   "source": [
    "# Storage variables.\n",
    "countryPopulation_dict = {}\n",
    "ethnicGroupPercent_dict = {}\n",
    "ethnicGroupName_dict = {}\n",
    "\n",
    "# Retrieve data by iteration.\n",
    "for country in database_xml.iterfind('country'):\n",
    "    try:\n",
    "        popHistory = {int(population.get('year')) : population.text \n",
    "                      for population in country.iterfind('population')}\n",
    "        countryPopulation_dict[country.find('name').text] = int(popHistory[max(popHistory.keys())])\n",
    "    except:\n",
    "        countryPopulation_dict[country.find('name').text] = np.nan\n",
    "            \n",
    "    try:\n",
    "        ethnicHistory = {ethnicgroup.text: float(ethnicgroup.get('percentage'))\n",
    "                         for ethnicgroup in country.iterfind('ethnicgroup')}\n",
    "        \n",
    "        largestEthnic = max(ethnicHistory, key=ethnicHistory.get)\n",
    "        ethnicGroupPercent_dict[country.find('name').text] = ethnicHistory[largestEthnic]/100.0    \n",
    "        ethnicGroupName_dict[country.find('name').text]=largestEthnic    \n",
    "    except:\n",
    "        ethnicGroupPercent_dict[country.find('name').text] = np.nan\n",
    "        ethnicGroupName_dict[country.find('name').text]=np.nan"
   ]
  },
  {
   "cell_type": "code",
   "execution_count": 12,
   "metadata": {},
   "outputs": [
    {
     "data": {
      "text/html": [
       "<div>\n",
       "<style>\n",
       "    .dataframe thead tr:only-child th {\n",
       "        text-align: right;\n",
       "    }\n",
       "\n",
       "    .dataframe thead th {\n",
       "        text-align: left;\n",
       "    }\n",
       "\n",
       "    .dataframe tbody tr th {\n",
       "        vertical-align: top;\n",
       "    }\n",
       "</style>\n",
       "<table border=\"1\" class=\"dataframe\">\n",
       "  <thead>\n",
       "    <tr style=\"text-align: right;\">\n",
       "      <th></th>\n",
       "      <th>ethnic_pop</th>\n",
       "    </tr>\n",
       "    <tr>\n",
       "      <th>ethnic_name</th>\n",
       "      <th></th>\n",
       "    </tr>\n",
       "  </thead>\n",
       "  <tbody>\n",
       "    <tr>\n",
       "      <th>African</th>\n",
       "      <td>2.550135e+08</td>\n",
       "    </tr>\n",
       "    <tr>\n",
       "      <th>African descent</th>\n",
       "      <td>2.831500e+03</td>\n",
       "    </tr>\n",
       "    <tr>\n",
       "      <th>African-white-Indian</th>\n",
       "      <td>3.530619e+05</td>\n",
       "    </tr>\n",
       "    <tr>\n",
       "      <th>Albanian</th>\n",
       "      <td>4.255293e+06</td>\n",
       "    </tr>\n",
       "    <tr>\n",
       "      <th>Alemannic</th>\n",
       "      <td>3.480420e+04</td>\n",
       "    </tr>\n",
       "  </tbody>\n",
       "</table>\n",
       "</div>"
      ],
      "text/plain": [
       "                        ethnic_pop\n",
       "ethnic_name                       \n",
       "African               2.550135e+08\n",
       "African descent       2.831500e+03\n",
       "African-white-Indian  3.530619e+05\n",
       "Albanian              4.255293e+06\n",
       "Alemannic             3.480420e+04"
      ]
     },
     "execution_count": 12,
     "metadata": {},
     "output_type": "execute_result"
    }
   ],
   "source": [
    "# Convert the dictionary into a Pandas dataframe.\n",
    "ethnicGroupsCount_df = pd.DataFrame({\"country_pop\" : countryPopulation_dict,\n",
    "                                \"ethnic_name\":ethnicGroupName_dict,\n",
    "                                \"ethnic_percent\":ethnicGroupPercent_dict})\n",
    "\n",
    "# Create the ethnic group population.\n",
    "ethnicGroupsCount_df['ethnic_pop'] = ethnicGroupsCount_df.country_pop*ethnicGroupsCount_df.ethnic_percent\n",
    "ethnicGroupsCount_df.ethnic_pop.apply(pd.to_numeric)\n",
    "\n",
    "ethnicGroup_df = (ethnicGroupsCount_df.groupby(by='ethnic_name').sum())[['ethnic_pop']]\n",
    "\n",
    "# Verify process.\n",
    "ethnicGroup_df.head()"
   ]
  },
  {
   "cell_type": "code",
   "execution_count": 13,
   "metadata": {},
   "outputs": [
    {
     "data": {
      "text/html": [
       "<div>\n",
       "<style>\n",
       "    .dataframe thead tr:only-child th {\n",
       "        text-align: right;\n",
       "    }\n",
       "\n",
       "    .dataframe thead th {\n",
       "        text-align: left;\n",
       "    }\n",
       "\n",
       "    .dataframe tbody tr th {\n",
       "        vertical-align: top;\n",
       "    }\n",
       "</style>\n",
       "<table border=\"1\" class=\"dataframe\">\n",
       "  <thead>\n",
       "    <tr style=\"text-align: right;\">\n",
       "      <th></th>\n",
       "      <th>ethnic_pop</th>\n",
       "    </tr>\n",
       "    <tr>\n",
       "      <th>ethnic_name</th>\n",
       "      <th></th>\n",
       "    </tr>\n",
       "  </thead>\n",
       "  <tbody>\n",
       "    <tr>\n",
       "      <th>Han Chinese</th>\n",
       "      <td>1.245059e+09</td>\n",
       "    </tr>\n",
       "    <tr>\n",
       "      <th>Indo-Aryan</th>\n",
       "      <td>8.718156e+08</td>\n",
       "    </tr>\n",
       "    <tr>\n",
       "      <th>European</th>\n",
       "      <td>4.548023e+08</td>\n",
       "    </tr>\n",
       "    <tr>\n",
       "      <th>African</th>\n",
       "      <td>2.550135e+08</td>\n",
       "    </tr>\n",
       "    <tr>\n",
       "      <th>Bengali</th>\n",
       "      <td>1.467769e+08</td>\n",
       "    </tr>\n",
       "    <tr>\n",
       "      <th>Mestizo</th>\n",
       "      <td>1.419729e+08</td>\n",
       "    </tr>\n",
       "    <tr>\n",
       "      <th>Japanese</th>\n",
       "      <td>1.265342e+08</td>\n",
       "    </tr>\n",
       "    <tr>\n",
       "      <th>Russian</th>\n",
       "      <td>1.146462e+08</td>\n",
       "    </tr>\n",
       "    <tr>\n",
       "      <th>Javanese</th>\n",
       "      <td>1.134560e+08</td>\n",
       "    </tr>\n",
       "    <tr>\n",
       "      <th>Arab</th>\n",
       "      <td>1.041474e+08</td>\n",
       "    </tr>\n",
       "  </tbody>\n",
       "</table>\n",
       "</div>"
      ],
      "text/plain": [
       "               ethnic_pop\n",
       "ethnic_name              \n",
       "Han Chinese  1.245059e+09\n",
       "Indo-Aryan   8.718156e+08\n",
       "European     4.548023e+08\n",
       "African      2.550135e+08\n",
       "Bengali      1.467769e+08\n",
       "Mestizo      1.419729e+08\n",
       "Japanese     1.265342e+08\n",
       "Russian      1.146462e+08\n",
       "Javanese     1.134560e+08\n",
       "Arab         1.041474e+08"
      ]
     },
     "execution_count": 13,
     "metadata": {},
     "output_type": "execute_result"
    }
   ],
   "source": [
    "# Sort data by ethnic population and display the largest ten ethnic groups.\n",
    "ethnicGroupTopTen_df = ethnicGroup_df.sort_values(by='ethnic_pop',ascending=False).head(10)\n",
    "ethnicGroupTopTen_df"
   ]
  },
  {
   "cell_type": "code",
   "execution_count": 14,
   "metadata": {
    "collapsed": true
   },
   "outputs": [],
   "source": [
    "# Import library and set plot parameters\n",
    "%matplotlib inline\n",
    "import matplotlib.pyplot as plt\n",
    "import seaborn as sns\n",
    "\n",
    "sns.set_context(\"notebook\", font_scale=1.2)"
   ]
  },
  {
   "cell_type": "code",
   "execution_count": 15,
   "metadata": {},
   "outputs": [
    {
     "data": {
      "image/png": "[encoded data removed]",
      "text/plain": [
       "<matplotlib.figure.Figure at 0x10fc69c18>"
      ]
     },
     "metadata": {},
     "output_type": "display_data"
    }
   ],
   "source": [
    "# Plot the data to obtain a better representation of the results\n",
    "ethnicGroupTopTen_df.ethnic_pop.plot(kind='pie',\n",
    "                   figsize=(10,10),\n",
    "                   title=\"Ten largest ethnic groups\",\n",
    "                   fontsize=17)\n",
    "plt.show()"
   ]
  },
  {
   "cell_type": "markdown",
   "metadata": {
    "collapsed": true
   },
   "source": [
    "name and country of a) longest river, b) largest lake and c) airport at highest elevation"
   ]
  },
  {
   "cell_type": "markdown",
   "metadata": {},
   "source": [
    "****\n",
    "## Question : Various country properties\n",
    "\n",
    "Goal:\n",
    " Name and country of  \n",
    " a) longest river  \n",
    " b) largest lake  \n",
    " c) airport at highest elevation  \n",
    "   \n",
    "Process:   \n",
    " a. Examine the data to find under which feature contains the data we are looking for.   \n",
    " b. Iterate through all the countries and retrieve the data.\n",
    " c. Iterate through each subgroup per country to retrieve the data.\n",
    " d. Converte the retrieved data into a Pandas DataFrame for manipulation.\n",
    " e. Sort the dataframe in descendign order.\n",
    "\n",
    "After review of the XML file, it appears that the desired data (population of largest ethnic) group is not directly available. In order to build it, first the latest population needs to be obtained, then the percentage of the largest ethnic group needs to be extracted. Finally, the desired feature is obtained by multipling both extracted values."
   ]
  },
  {
   "cell_type": "markdown",
   "metadata": {},
   "source": [
    "### a) Longest river\n",
    "\n",
    "After inspecting the structure of the XML file, the rivers are listed under the main layer (as the coutries were). However, the name of the country is not directly given. Indeed, only the country code is provided.  \n",
    "The first step will therefore consist of extracting a map of {Country code, Country name}. Then the river name, length and countries that it belong to are extracted."
   ]
  },
  {
   "cell_type": "code",
   "execution_count": 16,
   "metadata": {},
   "outputs": [
    {
     "name": "stdout",
     "output_type": "stream",
     "text": [
      "France\n",
      "United States\n"
     ]
    }
   ],
   "source": [
    "# Mapping between country code and country name\n",
    "# Storage variables.\n",
    "countryNameCode_dict = {}\n",
    "\n",
    "# Retrieve data by iteration.\n",
    "for country in database_xml.iterfind('country'):\n",
    "    try:\n",
    "        countryNameCode_dict[country.attrib['car_code']] = country.find('name').text\n",
    "    except:\n",
    "        continue\n",
    "\n",
    "# Test a sample record.\n",
    "print(countryNameCode_dict['F'])\n",
    "print(countryNameCode_dict['USA'])"
   ]
  },
  {
   "cell_type": "code",
   "execution_count": 17,
   "metadata": {
    "collapsed": true
   },
   "outputs": [],
   "source": [
    "# River data retrieval\n",
    "# Storage variables.\n",
    "\n",
    "countryCodeCrossed_dict = {}\n",
    "riverLength_dict = {}\n",
    "\n",
    "# Retrieve data by iteration.\n",
    "for river in database_xml.iterfind('river'):\n",
    "    try:\n",
    "        riverLength_dict[river.find('name').text] = float(river.find('length').text)\n",
    "        countryCodeCrossed_dict[river.find('name').text] = river.attrib['country']\n",
    "    except:\n",
    "        continue"
   ]
  },
  {
   "cell_type": "code",
   "execution_count": 18,
   "metadata": {},
   "outputs": [
    {
     "name": "stdout",
     "output_type": "stream",
     "text": [
      "F\n",
      "812.0\n"
     ]
    }
   ],
   "source": [
    "# Test the data\n",
    "print(countryCodeCrossed_dict['Seine'])\n",
    "print(riverLength_dict['Rhone'])"
   ]
  },
  {
   "cell_type": "code",
   "execution_count": 19,
   "metadata": {
    "collapsed": true
   },
   "outputs": [],
   "source": [
    "# Apply the mapping between the country code and name\n",
    "countryNameCrossed_dict = {river:[countryNameCode_dict[code]\n",
    "                                for code in codes.split(\" \")] \n",
    "                           for (river, codes) in countryCodeCrossed_dict.items()}\n",
    "\n",
    "# Join the country names for presentation.\n",
    "countryNameCrossed_dict = {river:\", \".join(countries) \n",
    "                           for (river,countries) in countryNameCrossed_dict.items()}"
   ]
  },
  {
   "cell_type": "code",
   "execution_count": 20,
   "metadata": {},
   "outputs": [
    {
     "name": "stdout",
     "output_type": "stream",
     "text": [
      "Germany, Switzerland, Liechtenstein, Austria, France, Netherlands\n"
     ]
    }
   ],
   "source": [
    "# Test the data\n",
    "print(countryNameCrossed_dict['Rhein'])"
   ]
  },
  {
   "cell_type": "code",
   "execution_count": 21,
   "metadata": {},
   "outputs": [
    {
     "data": {
      "text/html": [
       "<div>\n",
       "<style>\n",
       "    .dataframe thead tr:only-child th {\n",
       "        text-align: right;\n",
       "    }\n",
       "\n",
       "    .dataframe thead th {\n",
       "        text-align: left;\n",
       "    }\n",
       "\n",
       "    .dataframe tbody tr th {\n",
       "        vertical-align: top;\n",
       "    }\n",
       "</style>\n",
       "<table border=\"1\" class=\"dataframe\">\n",
       "  <thead>\n",
       "    <tr style=\"text-align: right;\">\n",
       "      <th></th>\n",
       "      <th>country_crossed</th>\n",
       "      <th>river_length_km</th>\n",
       "    </tr>\n",
       "  </thead>\n",
       "  <tbody>\n",
       "    <tr>\n",
       "      <th>Aare</th>\n",
       "      <td>Switzerland</td>\n",
       "      <td>288.0</td>\n",
       "    </tr>\n",
       "    <tr>\n",
       "      <th>Adda</th>\n",
       "      <td>Italy</td>\n",
       "      <td>313.0</td>\n",
       "    </tr>\n",
       "    <tr>\n",
       "      <th>Akagera</th>\n",
       "      <td>Tanzania, Rwanda, Uganda</td>\n",
       "      <td>275.0</td>\n",
       "    </tr>\n",
       "    <tr>\n",
       "      <th>Allegheny River</th>\n",
       "      <td>United States</td>\n",
       "      <td>523.0</td>\n",
       "    </tr>\n",
       "    <tr>\n",
       "      <th>Aller</th>\n",
       "      <td>Germany</td>\n",
       "      <td>211.0</td>\n",
       "    </tr>\n",
       "  </tbody>\n",
       "</table>\n",
       "</div>"
      ],
      "text/plain": [
       "                          country_crossed  river_length_km\n",
       "Aare                          Switzerland            288.0\n",
       "Adda                                Italy            313.0\n",
       "Akagera          Tanzania, Rwanda, Uganda            275.0\n",
       "Allegheny River             United States            523.0\n",
       "Aller                             Germany            211.0"
      ]
     },
     "execution_count": 21,
     "metadata": {},
     "output_type": "execute_result"
    }
   ],
   "source": [
    "# Convert data dictionary into a single Pandas dataframe.\n",
    "riverData_df = pd.DataFrame({\"river_length_km\":riverLength_dict,\n",
    "                                 \"country_crossed\":countryNameCrossed_dict})\n",
    "riverData_df.head()"
   ]
  },
  {
   "cell_type": "code",
   "execution_count": 22,
   "metadata": {},
   "outputs": [
    {
     "data": {
      "text/html": [
       "<div>\n",
       "<style>\n",
       "    .dataframe thead tr:only-child th {\n",
       "        text-align: right;\n",
       "    }\n",
       "\n",
       "    .dataframe thead th {\n",
       "        text-align: left;\n",
       "    }\n",
       "\n",
       "    .dataframe tbody tr th {\n",
       "        vertical-align: top;\n",
       "    }\n",
       "</style>\n",
       "<table border=\"1\" class=\"dataframe\">\n",
       "  <thead>\n",
       "    <tr style=\"text-align: right;\">\n",
       "      <th></th>\n",
       "      <th>country_crossed</th>\n",
       "      <th>river_length_km</th>\n",
       "    </tr>\n",
       "  </thead>\n",
       "  <tbody>\n",
       "    <tr>\n",
       "      <th>Amazonas</th>\n",
       "      <td>Colombia, Brazil, Peru</td>\n",
       "      <td>6448.0</td>\n",
       "    </tr>\n",
       "  </tbody>\n",
       "</table>\n",
       "</div>"
      ],
      "text/plain": [
       "                 country_crossed  river_length_km\n",
       "Amazonas  Colombia, Brazil, Peru           6448.0"
      ]
     },
     "execution_count": 22,
     "metadata": {},
     "output_type": "execute_result"
    }
   ],
   "source": [
    "# Sort data by river length and output the first record.\n",
    "riverData_df.sort_values(by='river_length_km',ascending=False).head(1)"
   ]
  },
  {
   "cell_type": "markdown",
   "metadata": {},
   "source": [
    "### b) Largest lake\n",
    "\n",
    "After inspecting the structure of the XML file, the lakes are listed under the main layer (as the coutries were). However, the name of the country is not directly given. Indeed, only the country code is provided.  \n",
    "The map between the country code and names from the previous question will be re-used.\n",
    "Then the lake name, area, and countries that it belong to are also extracted."
   ]
  },
  {
   "cell_type": "code",
   "execution_count": 23,
   "metadata": {
    "collapsed": true
   },
   "outputs": [],
   "source": [
    "# Lake data retrieval\n",
    "# Storage variables.\n",
    "\n",
    "countryCode_dict = {}\n",
    "lakeArea_dict = {}\n",
    "\n",
    "# Retrieve data by iteration.\n",
    "for lake in database_xml.iterfind('lake'):\n",
    "    try:\n",
    "        lakeArea_dict[lake.find('name').text] = float(lake.find('area').text)\n",
    "        countryCode_dict[lake.find('name').text] = lake.attrib['country']\n",
    "    except:\n",
    "        continue"
   ]
  },
  {
   "cell_type": "code",
   "execution_count": 24,
   "metadata": {
    "scrolled": true
   },
   "outputs": [
    {
     "name": "stdout",
     "output_type": "stream",
     "text": [
      "USA\n",
      "46.6\n"
     ]
    }
   ],
   "source": [
    "# Test the data\n",
    "print(countryCode_dict['Lake Powell'])\n",
    "print(lakeArea_dict['Ammersee'])"
   ]
  },
  {
   "cell_type": "code",
   "execution_count": 25,
   "metadata": {
    "collapsed": true
   },
   "outputs": [],
   "source": [
    "# Apply the mapping between the country code and name\n",
    "lakeCountryName_dict = {lake:[countryNameCode_dict[code]\n",
    "                                for code in codes.split(\" \")] \n",
    "                           for (lake, codes) in countryCode_dict.items()}\n",
    "\n",
    "# Join the country names for presentation.\n",
    "lakeCountryName_dict = {lake:\", \".join(countries) \n",
    "                           for (lake,countries) in lakeCountryName_dict.items()}"
   ]
  },
  {
   "cell_type": "code",
   "execution_count": 26,
   "metadata": {},
   "outputs": [
    {
     "name": "stdout",
     "output_type": "stream",
     "text": [
      "Canada, United States\n"
     ]
    }
   ],
   "source": [
    "# Test the data\n",
    "print(lakeCountryName_dict['Lake Superior'])"
   ]
  },
  {
   "cell_type": "code",
   "execution_count": 27,
   "metadata": {},
   "outputs": [
    {
     "data": {
      "text/html": [
       "<div>\n",
       "<style>\n",
       "    .dataframe thead tr:only-child th {\n",
       "        text-align: right;\n",
       "    }\n",
       "\n",
       "    .dataframe thead th {\n",
       "        text-align: left;\n",
       "    }\n",
       "\n",
       "    .dataframe tbody tr th {\n",
       "        vertical-align: top;\n",
       "    }\n",
       "</style>\n",
       "<table border=\"1\" class=\"dataframe\">\n",
       "  <thead>\n",
       "    <tr style=\"text-align: right;\">\n",
       "      <th></th>\n",
       "      <th>countries</th>\n",
       "      <th>lake_area_km2</th>\n",
       "    </tr>\n",
       "  </thead>\n",
       "  <tbody>\n",
       "    <tr>\n",
       "      <th>Ammersee</th>\n",
       "      <td>Germany</td>\n",
       "      <td>46.6</td>\n",
       "    </tr>\n",
       "    <tr>\n",
       "      <th>Arresoe</th>\n",
       "      <td>Denmark</td>\n",
       "      <td>40.2</td>\n",
       "    </tr>\n",
       "    <tr>\n",
       "      <th>Atlin Lake</th>\n",
       "      <td>Canada</td>\n",
       "      <td>798.0</td>\n",
       "    </tr>\n",
       "    <tr>\n",
       "      <th>Balaton</th>\n",
       "      <td>Hungary</td>\n",
       "      <td>594.0</td>\n",
       "    </tr>\n",
       "    <tr>\n",
       "      <th>Bodensee</th>\n",
       "      <td>Austria, Germany, Switzerland</td>\n",
       "      <td>538.5</td>\n",
       "    </tr>\n",
       "  </tbody>\n",
       "</table>\n",
       "</div>"
      ],
      "text/plain": [
       "                                countries  lake_area_km2\n",
       "Ammersee                          Germany           46.6\n",
       "Arresoe                           Denmark           40.2\n",
       "Atlin Lake                         Canada          798.0\n",
       "Balaton                           Hungary          594.0\n",
       "Bodensee    Austria, Germany, Switzerland          538.5"
      ]
     },
     "execution_count": 27,
     "metadata": {},
     "output_type": "execute_result"
    }
   ],
   "source": [
    "# Convert data dictionary into a single Pandas dataframe.\n",
    "lakeData_df = pd.DataFrame({\"lake_area_km2\":lakeArea_dict,\n",
    "                                 \"countries\":lakeCountryName_dict})\n",
    "lakeData_df.head()"
   ]
  },
  {
   "cell_type": "code",
   "execution_count": 28,
   "metadata": {},
   "outputs": [
    {
     "data": {
      "text/html": [
       "<div>\n",
       "<style>\n",
       "    .dataframe thead tr:only-child th {\n",
       "        text-align: right;\n",
       "    }\n",
       "\n",
       "    .dataframe thead th {\n",
       "        text-align: left;\n",
       "    }\n",
       "\n",
       "    .dataframe tbody tr th {\n",
       "        vertical-align: top;\n",
       "    }\n",
       "</style>\n",
       "<table border=\"1\" class=\"dataframe\">\n",
       "  <thead>\n",
       "    <tr style=\"text-align: right;\">\n",
       "      <th></th>\n",
       "      <th>countries</th>\n",
       "      <th>lake_area_km2</th>\n",
       "    </tr>\n",
       "  </thead>\n",
       "  <tbody>\n",
       "    <tr>\n",
       "      <th>Caspian Sea</th>\n",
       "      <td>Russia, Azerbaijan, Kazakhstan, Iran, Turkmeni...</td>\n",
       "      <td>386400.0</td>\n",
       "    </tr>\n",
       "  </tbody>\n",
       "</table>\n",
       "</div>"
      ],
      "text/plain": [
       "                                                     countries  lake_area_km2\n",
       "Caspian Sea  Russia, Azerbaijan, Kazakhstan, Iran, Turkmeni...       386400.0"
      ]
     },
     "execution_count": 28,
     "metadata": {},
     "output_type": "execute_result"
    }
   ],
   "source": [
    "# Sort data by river length and output the first record.\n",
    "lakeData_df.sort_values(by='lake_area_km2',ascending=False).head(1)"
   ]
  },
  {
   "cell_type": "markdown",
   "metadata": {},
   "source": [
    "### c) Airport at highest elevation\n",
    "\n",
    "After inspecting the structure of the XML file, the airports are listed under the main layer (as the coutries were). However, the name of the country is not directly given. Indeed, only the country code is provided.  \n",
    "The map between the country code and names from the first question will be re-used.\n",
    "Then the airport name, city, IATA code, elevation, and country that it belong to are also extracted."
   ]
  },
  {
   "cell_type": "code",
   "execution_count": 29,
   "metadata": {
    "collapsed": true
   },
   "outputs": [],
   "source": [
    "# Airport data retrieval\n",
    "# Storage variables.\n",
    "\n",
    "airportCountryCode_dict = {}\n",
    "airportCity_dict = {}\n",
    "airportElevation_dict = {}\n",
    "airportIataCode_dict = {}\n",
    "\n",
    "# Retrieve data by iteration.\n",
    "for airport in database_xml.iterfind('airport'):\n",
    "    try:\n",
    "        airportCountryCode_dict[airport.find('name').text] = airport.attrib['country']\n",
    "        airportCity_dict[airport.find('name').text] = airport.attrib['city']\n",
    "        airportElevation_dict[airport.find('name').text] = float(airport.find('elevation').text)\n",
    "        airportIataCode_dict[airport.find('name').text] = airport.attrib['iatacode']\n",
    "    except:\n",
    "        continue"
   ]
  },
  {
   "cell_type": "code",
   "execution_count": 30,
   "metadata": {},
   "outputs": [
    {
     "name": "stdout",
     "output_type": "stream",
     "text": [
      "USA\n",
      "cty-United-States-21\n",
      "6.0\n",
      "BOS\n"
     ]
    }
   ],
   "source": [
    "# Test the data\n",
    "print(airportCountryCode_dict['General Edward Lawrence Logan Intl'])\n",
    "print(airportCity_dict['General Edward Lawrence Logan Intl'])\n",
    "print(airportElevation_dict['General Edward Lawrence Logan Intl'])\n",
    "print(airportIataCode_dict['General Edward Lawrence Logan Intl'])"
   ]
  },
  {
   "cell_type": "code",
   "execution_count": 31,
   "metadata": {
    "collapsed": true
   },
   "outputs": [],
   "source": [
    "# Apply the mapping between the country code and name\n",
    "airportCountryCode_dict = {airport:countryNameCode_dict[code.strip()] \n",
    "                           for (airport, code) in airportCountryCode_dict.items()}\n"
   ]
  },
  {
   "cell_type": "code",
   "execution_count": 32,
   "metadata": {},
   "outputs": [
    {
     "name": "stdout",
     "output_type": "stream",
     "text": [
      "United States\n"
     ]
    }
   ],
   "source": [
    "# Test the data\n",
    "print(airportCountryCode_dict['General Edward Lawrence Logan Intl'])"
   ]
  },
  {
   "cell_type": "code",
   "execution_count": 33,
   "metadata": {},
   "outputs": [
    {
     "data": {
      "text/html": [
       "<div>\n",
       "<style>\n",
       "    .dataframe thead tr:only-child th {\n",
       "        text-align: right;\n",
       "    }\n",
       "\n",
       "    .dataframe thead th {\n",
       "        text-align: left;\n",
       "    }\n",
       "\n",
       "    .dataframe tbody tr th {\n",
       "        vertical-align: top;\n",
       "    }\n",
       "</style>\n",
       "<table border=\"1\" class=\"dataframe\">\n",
       "  <thead>\n",
       "    <tr style=\"text-align: right;\">\n",
       "      <th></th>\n",
       "      <th>IATA_code</th>\n",
       "      <th>city</th>\n",
       "      <th>countries</th>\n",
       "      <th>elevation_m</th>\n",
       "    </tr>\n",
       "  </thead>\n",
       "  <tbody>\n",
       "    <tr>\n",
       "      <th>A Coruna</th>\n",
       "      <td>LCG</td>\n",
       "      <td>cty-Spain-19</td>\n",
       "      <td>Spain</td>\n",
       "      <td>99.0</td>\n",
       "    </tr>\n",
       "    <tr>\n",
       "      <th>Aalborg</th>\n",
       "      <td>AAL</td>\n",
       "      <td>stadt-Aalborg-DK-DK</td>\n",
       "      <td>Denmark</td>\n",
       "      <td>3.0</td>\n",
       "    </tr>\n",
       "    <tr>\n",
       "      <th>Aarhus</th>\n",
       "      <td>AAR</td>\n",
       "      <td>stadt-Aarhus-DK-DK</td>\n",
       "      <td>Denmark</td>\n",
       "      <td>25.0</td>\n",
       "    </tr>\n",
       "    <tr>\n",
       "      <th>Abadan</th>\n",
       "      <td>ABD</td>\n",
       "      <td>cty-Iran-53</td>\n",
       "      <td>Iran</td>\n",
       "      <td>6.0</td>\n",
       "    </tr>\n",
       "    <tr>\n",
       "      <th>Abakan</th>\n",
       "      <td>ABA</td>\n",
       "      <td>cty-Russia-112</td>\n",
       "      <td>Russia</td>\n",
       "      <td>253.0</td>\n",
       "    </tr>\n",
       "  </tbody>\n",
       "</table>\n",
       "</div>"
      ],
      "text/plain": [
       "         IATA_code                 city countries  elevation_m\n",
       "A Coruna       LCG         cty-Spain-19     Spain         99.0\n",
       "Aalborg        AAL  stadt-Aalborg-DK-DK   Denmark          3.0\n",
       "Aarhus         AAR   stadt-Aarhus-DK-DK   Denmark         25.0\n",
       "Abadan         ABD          cty-Iran-53      Iran          6.0\n",
       "Abakan         ABA       cty-Russia-112    Russia        253.0"
      ]
     },
     "execution_count": 33,
     "metadata": {},
     "output_type": "execute_result"
    }
   ],
   "source": [
    "# Convert data dictionary into a single Pandas dataframe.\n",
    "airportData_df = pd.DataFrame({\"elevation_m\":airportElevation_dict,\n",
    "                               \"IATA_code\":airportIataCode_dict,\n",
    "                               \"city\":airportCity_dict,\n",
    "                               \"countries\":airportCountryCode_dict})\n",
    "airportData_df.head()"
   ]
  },
  {
   "cell_type": "code",
   "execution_count": 34,
   "metadata": {},
   "outputs": [
    {
     "data": {
      "text/html": [
       "<div>\n",
       "<style>\n",
       "    .dataframe thead tr:only-child th {\n",
       "        text-align: right;\n",
       "    }\n",
       "\n",
       "    .dataframe thead th {\n",
       "        text-align: left;\n",
       "    }\n",
       "\n",
       "    .dataframe tbody tr th {\n",
       "        vertical-align: top;\n",
       "    }\n",
       "</style>\n",
       "<table border=\"1\" class=\"dataframe\">\n",
       "  <thead>\n",
       "    <tr style=\"text-align: right;\">\n",
       "      <th></th>\n",
       "      <th>IATA_code</th>\n",
       "      <th>city</th>\n",
       "      <th>countries</th>\n",
       "      <th>elevation_m</th>\n",
       "    </tr>\n",
       "  </thead>\n",
       "  <tbody>\n",
       "    <tr>\n",
       "      <th>El Alto Intl</th>\n",
       "      <td>LPB</td>\n",
       "      <td>cty-BOL-1</td>\n",
       "      <td>Bolivia</td>\n",
       "      <td>4063.0</td>\n",
       "    </tr>\n",
       "  </tbody>\n",
       "</table>\n",
       "</div>"
      ],
      "text/plain": [
       "             IATA_code       city countries  elevation_m\n",
       "El Alto Intl       LPB  cty-BOL-1   Bolivia       4063.0"
      ]
     },
     "execution_count": 34,
     "metadata": {},
     "output_type": "execute_result"
    }
   ],
   "source": [
    "# Sort data by airport elevation and output the first record.\n",
    "airportData_df.sort_values(by='elevation_m',ascending=False).head(1)"
   ]
  }
 ],
 "metadata": {
  "kernelspec": {
   "display_name": "Python 3",
   "language": "python",
   "name": "python3"
  },
  "language_info": {
   "codemirror_mode": {
    "name": "ipython",
    "version": 3
   },
   "file_extension": ".py",
   "mimetype": "text/x-python",
   "name": "python",
   "nbconvert_exporter": "python",
   "pygments_lexer": "ipython3",
   "version": "3.6.1"
  }
 },
 "nbformat": 4,
 "nbformat_minor": 1
}
